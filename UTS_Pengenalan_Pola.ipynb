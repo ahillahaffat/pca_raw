{
  "nbformat": 4,
  "nbformat_minor": 0,
  "metadata": {
    "colab": {
      "provenance": [],
      "include_colab_link": true
    },
    "kernelspec": {
      "name": "python3",
      "display_name": "Python 3"
    },
    "language_info": {
      "name": "python"
    }
  },
  "cells": [
    {
      "cell_type": "markdown",
      "metadata": {
        "id": "view-in-github",
        "colab_type": "text"
      },
      "source": [
        "<a href=\"https://colab.research.google.com/github/ahillahaffat/pca_raw/blob/master/UTS_Pengenalan_Pola.ipynb\" target=\"_parent\"><img src=\"https://colab.research.google.com/assets/colab-badge.svg\" alt=\"Open In Colab\"/></a>"
      ]
    },
    {
      "cell_type": "code",
      "source": [
        "import kagglehub\n",
        "\n",
        "# Download latest version\n",
        "path = kagglehub.dataset_download(\"abdallahalidev/plantvillage-dataset\")\n",
        "\n",
        "print(\"Path to dataset files:\", path)"
      ],
      "metadata": {
        "colab": {
          "base_uri": "https://localhost:8080/"
        },
        "id": "Mra2nYWuyKXR",
        "outputId": "a9140993-2985-4b05-e5fb-f8ed8a36b751"
      },
      "execution_count": null,
      "outputs": [
        {
          "output_type": "stream",
          "name": "stdout",
          "text": [
            "Path to dataset files: /root/.cache/kagglehub/datasets/abdallahalidev/plantvillage-dataset/versions/3\n"
          ]
        }
      ]
    },
    {
      "cell_type": "code",
      "source": [
        "def mean_centering(x):\n",
        "    jumlah_total = 0\n",
        "    jumlah_elemen = len(x) * len(x[0])\n",
        "    for i in range(len(x)):\n",
        "        for j in range(len(x[0])):\n",
        "            jumlah_total += x[i][j]\n",
        "    rata_rata = jumlah_total / jumlah_elemen\n",
        "    x_terpusat = [[x[i][j] - rata_rata for j in range(len(x[0]))] for i in range(len(x))]\n",
        "    return x_terpusat\n",
        "\n",
        "x = [\n",
        "    [3.5, 0.5, 4.5],\n",
        "    [0.5, 3.0, 1.0],\n",
        "    [4.5, 0.0, 3.5],\n",
        "    [1.0, 2.0, 0.0]\n",
        "]\n",
        "x_terpusat = mean_centering(x)\n",
        "\n",
        "print(\"Dataset yang sudah di Mean Centering:\\n\", x_terpusat)"
      ],
      "metadata": {
        "colab": {
          "base_uri": "https://localhost:8080/"
        },
        "id": "cvJtQk9OyV5K",
        "outputId": "4ea9a306-a63c-49dd-c7b9-f981ea546da2"
      },
      "execution_count": null,
      "outputs": [
        {
          "output_type": "stream",
          "name": "stdout",
          "text": [
            "Dataset yang sudah di Mean Centering:\n",
            " [[1.5, -1.5, 2.5], [-1.5, 1.0, -1.0], [2.5, -2.0, 1.5], [-1.0, 0.0, -2.0]]\n"
          ]
        }
      ]
    },
    {
      "cell_type": "markdown",
      "source": [
        "**Menghitung Matriks Kovarians (21081010176 - Annisa Rachmania)**"
      ],
      "metadata": {
        "id": "W2i8VmKprZJr"
      }
    },
    {
      "cell_type": "code",
      "source": [
        "# uji coba\n",
        "x_terpusat = [\n",
        "     [1.5, -0.5, 2.0],\n",
        "     [-1.0, 1.5, -0.5],\n",
        "     [2.0, -1.5, 0.5],\n",
        "     [-1.5, 1.0, -2.0]\n",
        "]"
      ],
      "metadata": {
        "id": "pHZYuGz-vycB"
      },
      "execution_count": null,
      "outputs": []
    },
    {
      "cell_type": "code",
      "source": [
        "def hitung_matriks_kovarian(x_terpusat):\n",
        "    jumlah_sampel = len(x_terpusat)\n",
        "    jumlah_fitur = len(x_terpusat[0])\n",
        "    matriks_kovarian = [[0 for _ in range(jumlah_fitur)] for _ in range(jumlah_fitur)]\n",
        "\n",
        "    # Hitung rata-rata tiap fitur\n",
        "    means = [sum(x[i] for x in x_terpusat) / jumlah_sampel for i in range(jumlah_fitur)]\n",
        "\n",
        "    # Hitung matriks kovarian\n",
        "    for i in range(jumlah_fitur):\n",
        "        for j in range(jumlah_fitur):\n",
        "            total = 0\n",
        "            for k in range(jumlah_sampel):\n",
        "                total += (x_terpusat[k][i] - means[i]) * (x_terpusat[k][j] - means[j])\n",
        "            matriks_kovarian[i][j] = total / (jumlah_sampel - 1)\n",
        "\n",
        "    return matriks_kovarian"
      ],
      "metadata": {
        "id": "3YAHH5sqpeCK"
      },
      "execution_count": null,
      "outputs": []
    },
    {
      "cell_type": "code",
      "source": [
        "matriks_kovarian = hitung_matriks_kovarian(x_terpusat)"
      ],
      "metadata": {
        "id": "_E-V-1z7v60U"
      },
      "execution_count": null,
      "outputs": []
    },
    {
      "cell_type": "code",
      "source": [
        "print(matriks_kovarian)"
      ],
      "metadata": {
        "colab": {
          "base_uri": "https://localhost:8080/"
        },
        "id": "k-CDwMwLwF4b",
        "outputId": "47ef1a35-21e7-4cc6-a3fe-9866f6bbd0c5"
      },
      "execution_count": null,
      "outputs": [
        {
          "output_type": "stream",
          "name": "stdout",
          "text": [
            "[[3.0833333333333335, -2.2916666666666665, 2.5], [-2.2916666666666665, 1.8958333333333333, -1.5], [2.5, -1.5, 2.8333333333333335]]\n"
          ]
        }
      ]
    },
    {
      "cell_type": "markdown",
      "source": [
        "## **Eigen Values**"
      ],
      "metadata": {
        "id": "dcfAHB0vIOng"
      }
    },
    {
      "cell_type": "code",
      "source": [
        "def hitung_eigenvalues(matriks):\n",
        "    n = len(matriks)\n",
        "    toleransi = 1e-10\n",
        "    max_iter = 100\n",
        "\n",
        "    A = [row[:] for row in matriks]\n",
        "    eigenvals = []\n",
        "\n",
        "    for i in range(n):\n",
        "        val = A[i][i]\n",
        "        iter_count = 0\n",
        "\n",
        "        while iter_count < max_iter:\n",
        "            delta = sum(abs(A[i][j]) for j in range(n) if i != j)\n",
        "\n",
        "            if delta < toleransi:\n",
        "                break\n",
        "\n",
        "            for j in range(n):\n",
        "                if j != i:\n",
        "                    if abs(A[i][j]) > toleransi:\n",
        "                        r = ((A[i][i]**2 + A[i][j]**2)**0.5)\n",
        "                        c = A[i][i]/r\n",
        "                        s = -A[i][j]/r\n",
        "\n",
        "                        temp_i = A[i][:]\n",
        "                        temp_j = A[j][:]\n",
        "                        for k in range(n):\n",
        "                            A[i][k] = c*temp_i[k] - s*temp_j[k]\n",
        "                            A[j][k] = s*temp_i[k] + c*temp_j[k]\n",
        "\n",
        "                        for k in range(n):\n",
        "                            temp_i = A[k][i]\n",
        "                            temp_j = A[k][j]\n",
        "                            A[k][i] = c*temp_i - s*temp_j\n",
        "                            A[k][j] = s*temp_i + c*temp_j\n",
        "\n",
        "            val = A[i][i]\n",
        "            iter_count += 1\n",
        "\n",
        "        eigenvals.append(val)\n",
        "\n",
        "    return eigenvals"
      ],
      "metadata": {
        "id": "nYuDrztOIGny"
      },
      "execution_count": null,
      "outputs": []
    },
    {
      "cell_type": "markdown",
      "source": [
        "# **Eigen Vector**"
      ],
      "metadata": {
        "id": "5yvmySc1I1Gv"
      }
    },
    {
      "cell_type": "code",
      "source": [
        "def hitung_eigenvectors(matriks, eigenvalues):\n",
        "    n = len(matriks)\n",
        "    eigenvectors = []\n",
        "    toleransi = 1e-10\n",
        "\n",
        "    for eigenval in eigenvalues:\n",
        "        temp_matrix = [[matriks[i][j] - (eigenval if i == j else 0)\n",
        "                       for j in range(n)] for i in range(n)]\n",
        "\n",
        "        vector = [0] * n\n",
        "        vector[0] = 1\n",
        "\n",
        "        for i in range(n-1, -1, -1):\n",
        "            sum_val = sum(temp_matrix[i][j] * vector[j] for j in range(n))\n",
        "            if abs(temp_matrix[i][i]) > toleransi:\n",
        "                vector[i] = -sum_val / temp_matrix[i][i]\n",
        "\n",
        "        magnitude = sum(x*x for x in vector) ** 0.5\n",
        "        if magnitude > toleransi:\n",
        "            vector = [x/magnitude for x in vector]\n",
        "\n",
        "        eigenvectors.append(vector)\n",
        "\n",
        "    return eigenvectors"
      ],
      "metadata": {
        "id": "3M6DNtA_I4Cu"
      },
      "execution_count": null,
      "outputs": []
    },
    {
      "cell_type": "markdown",
      "source": [
        "#  Result From\n",
        "\n",
        "\n",
        "*   Eigen Vectors\n",
        "*   Eigen Values\n",
        "\n"
      ],
      "metadata": {
        "id": "e26gdgRAKDPu"
      }
    },
    {
      "cell_type": "code",
      "source": [
        "print(\"\\nEigenvalues:\")\n",
        "for i, val in enumerate(eigenvalues):\n",
        "    print(f\"λ{i+1} = {val:.4f}\")\n",
        "\n",
        "print(\"\\nEigenvectors:\")\n",
        "for i, vec in enumerate(eigenvectors):\n",
        "    print(f\"v{i+1} = {[f'{x:.4f}' for x in vec]}\")"
      ],
      "metadata": {
        "colab": {
          "base_uri": "https://localhost:8080/"
        },
        "id": "twXW1kJWI_6I",
        "outputId": "e9e8f746-5f89-4b8b-b064-d33c4a17a08a"
      },
      "execution_count": null,
      "outputs": [
        {
          "output_type": "stream",
          "name": "stdout",
          "text": [
            "\n",
            "Eigenvalues:\n",
            "λ1 = 6.9178\n",
            "λ2 = 0.8810\n",
            "λ3 = 0.0137\n",
            "\n",
            "Eigenvectors:\n",
            "v1 = ['-0.2402', '-0.7011', '0.6714']\n",
            "v2 = ['0.5307', '0.2326', '-0.8150']\n",
            "v3 = ['0.1007', '0.4968', '-0.8620']\n"
          ]
        }
      ]
    },
    {
      "cell_type": "code",
      "source": [
        "# Data eigenvalues dan eigenvectors dari hasil sebelumnya\n",
        "eigenvalues = [6.9178, 0.8810, 0.0137]\n",
        "eigenvectors = [\n",
        "    [-0.2402, -0.7011, 0.6714],\n",
        "    [0.5307, 0.2326, -0.8150],\n",
        "    [0.1007, 0.4968, -0.8620]\n",
        "]\n",
        "\n",
        "def urutkan_eigen(eigenvalues, eigenvectors):\n",
        "        pairs = list(zip(eigenvalues, eigenvectors))\n",
        "        pairs.sort(reverse=True, key=lambda x: x[0])\n",
        "\n",
        "        sorted_values = [pair[0] for pair in pairs]\n",
        "        sorted_vectors = [pair[1] for pair in pairs]\n",
        "\n",
        "        return sorted_values, sorted_vectors\n"
      ],
      "metadata": {
        "id": "26dTrYlhLO37"
      },
      "execution_count": null,
      "outputs": []
    },
    {
      "cell_type": "code",
      "source": [
        "# Testing\n",
        "sorted_values, sorted_vectors = urutkan_eigen(eigenvalues, eigenvectors)\n",
        "print(\"Eigenvalues terurut:\")\n",
        "for i, val in enumerate(sorted_values):\n",
        "    print(f\"λ{i+1} = {val:.4f}\")\n",
        "\n",
        "print(\"\\nEigenvectors terurut:\")\n",
        "for i, vec in enumerate(sorted_vectors):\n",
        "    print(f\"v{i+1} = {[f'{x:.4f}' for x in vec]}\")"
      ],
      "metadata": {
        "colab": {
          "base_uri": "https://localhost:8080/"
        },
        "id": "gyIsPvCbMMcS",
        "outputId": "b7e9a95b-fa3b-4996-917d-3ad04144b884"
      },
      "execution_count": null,
      "outputs": [
        {
          "output_type": "stream",
          "name": "stdout",
          "text": [
            "Eigenvalues terurut:\n",
            "λ1 = 6.9178\n",
            "λ2 = 0.8810\n",
            "λ3 = 0.0137\n",
            "\n",
            "Eigenvectors terurut:\n",
            "v1 = ['-0.2402', '-0.7011', '0.6714']\n",
            "v2 = ['0.5307', '0.2326', '-0.8150']\n",
            "v3 = ['0.1007', '0.4968', '-0.8620']\n"
          ]
        }
      ]
    },
    {
      "cell_type": "markdown",
      "source": [
        "# KOMPONEN UTAMANYA"
      ],
      "metadata": {
        "id": "1Xa5BoxDMsuL"
      }
    },
    {
      "cell_type": "code",
      "source": [
        "def pilih_komponen_utama(sorted_values, sorted_vectors, n_components):\n",
        "    selected_values = sorted_values[:n_components]\n",
        "    selected_vectors = sorted_vectors[:n_components]\n",
        "\n",
        "    return selected_values, selected_vectors\n",
        "\n",
        "n_components = 2\n",
        "selected_values, selected_vectors = pilih_komponen_utama(sorted_values, sorted_vectors, n_components)\n",
        "\n",
        "print(f\"\\nHasil {n_components} komponen utama:\")\n",
        "print(\"Eigenvalues terpilih:\")\n",
        "for i, val in enumerate(selected_values):\n",
        "    print(f\"λ{i+1} = {val:.4f}\")"
      ],
      "metadata": {
        "colab": {
          "base_uri": "https://localhost:8080/"
        },
        "id": "Bi5yWO08M5AW",
        "outputId": "67d9e0b7-48ed-4224-f7d7-5bb6fd7ce96b"
      },
      "execution_count": null,
      "outputs": [
        {
          "output_type": "stream",
          "name": "stdout",
          "text": [
            "\n",
            "Hasil 2 komponen utama:\n",
            "Eigenvalues terpilih:\n",
            "λ1 = 6.9178\n",
            "λ2 = 0.8810\n"
          ]
        }
      ]
    },
    {
      "cell_type": "code",
      "source": [
        "def hitung_proporsi_variansi(eigenvalues):\n",
        "    total = sum(eigenvalues)\n",
        "    proportions = [val/total * 100 for val in eigenvalues]\n",
        "\n",
        "    cumulative = []\n",
        "    current_sum = 0\n",
        "    for prop in proportions:\n",
        "        current_sum += prop\n",
        "        cumulative.append(current_sum)\n",
        "\n",
        "    return proportions, cumulative\n",
        "\n",
        "proportions, cumulative = hitung_proporsi_variansi(sorted_values)\n",
        "\n",
        "print(\"\\nProporsi variansi yang dijelaskan:\")\n",
        "for i, (prop, cum) in enumerate(zip(proportions, cumulative)):\n",
        "    print(f\"Komponen {i+1}: {prop:.2f}% (Kumulatif: {cum:.2f}%)\")"
      ],
      "metadata": {
        "id": "1N9laEYDNBYy",
        "outputId": "64ee197f-c823-4ba7-ad07-b2ceeaf2cf2a",
        "colab": {
          "base_uri": "https://localhost:8080/"
        }
      },
      "execution_count": null,
      "outputs": [
        {
          "output_type": "stream",
          "name": "stdout",
          "text": [
            "\n",
            "Proporsi variansi yang dijelaskan:\n",
            "Komponen 1: 88.55% (Kumulatif: 88.55%)\n",
            "Komponen 2: 11.28% (Kumulatif: 99.82%)\n",
            "Komponen 3: 0.18% (Kumulatif: 100.00%)\n"
          ]
        }
      ]
    },
    {
      "cell_type": "markdown",
      "source": [
        "**Membentuk Matriks Proyeksi (Ananda Asa Firstha)**"
      ],
      "metadata": {
        "id": "IwhiovmfTjNc"
      }
    },
    {
      "cell_type": "code",
      "source": [
        "# Ujicoba Vektor eigen\n",
        "eigenvectors = [\n",
        "    [0.5, 0.5, -0.7],\n",
        "    [-0.7, 0.3, 0.5],\n",
        "    [0.5, -0.8, 0.3]\n",
        "]\n",
        "\n",
        "# Jumlah komponen utama yang ingin dipilih\n",
        "num_components = 2\n",
        "\n",
        "def bentuk_matriks_proyeksi(vektor_eigen, jumlah_komponen):\n",
        "\n",
        "    # Pilih jumlah_komponen teratas dari setiap vektor eigen\n",
        "    matriks_proyeksi = [baris[:jumlah_komponen] for baris in vektor_eigen]\n",
        "    return matriks_proyeksi\n",
        "\n",
        "# Panggil fungsi untuk membentuk matriks proyeksi\n",
        "matriks_proyeksi = bentuk_matriks_proyeksi(eigenvectors, num_components)\n",
        "\n",
        "# Cetak hasil matriks proyeksi\n",
        "print(\"Matriks Proyeksi:\")\n",
        "for baris in matriks_proyeksi:\n",
        "    print(baris)\n"
      ],
      "metadata": {
        "id": "KSG6Z1f9TwmO",
        "outputId": "5168d50c-8fd1-448d-fab0-779c1e900edb",
        "colab": {
          "base_uri": "https://localhost:8080/"
        }
      },
      "execution_count": null,
      "outputs": [
        {
          "output_type": "stream",
          "name": "stdout",
          "text": [
            "Matriks Proyeksi:\n",
            "[0.5, 0.5]\n",
            "[-0.7, 0.3]\n",
            "[0.5, -0.8]\n"
          ]
        }
      ]
    },
    {
      "cell_type": "markdown",
      "source": [
        "**Transformasi data ke ruang komponen utama (21081010283 - Dzaru Rizky Fathan Fortuna)**\n",
        "\n",
        "---\n",
        "\n"
      ],
      "metadata": {
        "id": "-EOp3uP_pf18"
      }
    },
    {
      "cell_type": "code",
      "source": [
        "# Ini uji percobaan fungsi ya ges\n",
        "# x_centered = [\n",
        "#     [1.5, -0.5, 2.0],\n",
        "#     [-1.0, 1.5, -0.5],\n",
        "#     [2.0, -1.5, 0.5],\n",
        "#     [-1.5, 1.0, -2.0]\n",
        "# ]\n",
        "\n",
        "# eigenvectors = [\n",
        "#     [0.5, 0.5, -0.7],\n",
        "#     [-0.7, 0.3, 0.5],\n",
        "#     [0.5, -0.8, 0.3]\n",
        "# ]\n",
        "\n",
        "# num_components = 2"
      ],
      "metadata": {
        "id": "NAF6gKDgvCIB"
      },
      "execution_count": null,
      "outputs": []
    },
    {
      "cell_type": "code",
      "execution_count": null,
      "metadata": {
        "id": "HE-VgOcOpgHp"
      },
      "outputs": [],
      "source": [
        "def proyeksi_data(x_terpusat, vektor_eigen, jumlah_komponen) :\n",
        "  x_tereduksi = []\n",
        "  for baris in x_terpusat :\n",
        "    baris_proyeksi = []\n",
        "    for i in range(jumlah_komponen) :\n",
        "      proyeksi = 0\n",
        "      for j in range(len(baris)) :\n",
        "        proyeksi += baris[j] * vektor_eigen[i][j]\n",
        "      baris_proyeksi.append(proyeksi)\n",
        "    x_tereduksi.append(baris_proyeksi)\n",
        "  return x_tereduksi"
      ]
    },
    {
      "cell_type": "code",
      "source": [
        "# proyeksi_data(x_centered, eigenvectors, num_components)"
      ],
      "metadata": {
        "id": "NDjSbLIAvH-D"
      },
      "execution_count": null,
      "outputs": []
    }
  ]
}